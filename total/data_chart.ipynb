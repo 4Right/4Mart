{
 "cells": [
  {
   "cell_type": "code",
   "execution_count": 56,
   "metadata": {},
   "outputs": [],
   "source": [
    "import folium\n",
    "import pandas as pd\n",
    "import matplotlib.pyplot as plt\n",
    "import seaborn as sns\n",
    "from matplotlib import font_manager,rc"
   ]
  },
  {
   "cell_type": "code",
   "execution_count": 57,
   "metadata": {},
   "outputs": [],
   "source": [
    "font_name = font_manager.FontProperties(fname='C:/Windows/Fonts/NanumBarunGothic.ttf').get_name()\n",
    "rc('font',family=font_name)\n",
    "plt.rcParams['font.size'] = 14\n",
    "import matplotlib as mpl\n",
    "mpl.rcParams['axes.unicode_minus']=False"
   ]
  },
  {
   "cell_type": "code",
   "execution_count": 58,
   "metadata": {},
   "outputs": [],
   "source": [
    "emart_df=pd.read_csv('C:/MartRepository/4Mart/data/Emart_info.csv',encoding='utf-8')"
   ]
  },
  {
   "cell_type": "code",
   "execution_count": 59,
   "metadata": {},
   "outputs": [],
   "source": [
    "lotte_df=pd.read_csv('C:/MartRepository/4Mart/data/lotte.csv',encoding='utf-8')"
   ]
  },
  {
   "cell_type": "code",
   "execution_count": 60,
   "metadata": {},
   "outputs": [],
   "source": [
    "home_df=pd.read_csv('C:/MartRepository/4Mart/data/Homeplus_shop_info_loc4.csv',encoding='utf-8')\n"
   ]
  },
  {
   "cell_type": "code",
   "execution_count": 61,
   "metadata": {},
   "outputs": [],
   "source": [
    "top_df=pd.read_csv('C:/MartRepository/4Mart/data/topmart_shop_info_loc.csv',encoding='utf-8')\n"
   ]
  },
  {
   "cell_type": "code",
   "execution_count": 62,
   "metadata": {},
   "outputs": [],
   "source": [
    "mart_df=pd.concat([lotte_df, emart_df,home_df,top_df],axis=0) "
   ]
  },
  {
   "cell_type": "code",
   "execution_count": 63,
   "metadata": {},
   "outputs": [],
   "source": [
    "mart_df.to_csv('./mart.csv',encoding='utf-8',index=False)"
   ]
  },
  {
   "cell_type": "code",
   "execution_count": 64,
   "metadata": {},
   "outputs": [
    {
     "data": {
      "text/html": [
       "<div>\n",
       "<style scoped>\n",
       "    .dataframe tbody tr th:only-of-type {\n",
       "        vertical-align: middle;\n",
       "    }\n",
       "\n",
       "    .dataframe tbody tr th {\n",
       "        vertical-align: top;\n",
       "    }\n",
       "\n",
       "    .dataframe thead th {\n",
       "        text-align: right;\n",
       "    }\n",
       "</style>\n",
       "<table border=\"1\" class=\"dataframe\">\n",
       "  <thead>\n",
       "    <tr style=\"text-align: right;\">\n",
       "      <th></th>\n",
       "      <th>store</th>\n",
       "      <th>address</th>\n",
       "      <th>Latitude</th>\n",
       "      <th>Longitude</th>\n",
       "      <th>tel</th>\n",
       "    </tr>\n",
       "  </thead>\n",
       "  <tbody>\n",
       "    <tr>\n",
       "      <th>0</th>\n",
       "      <td>롯데마트 TRU동부산점</td>\n",
       "      <td>부산광역시 기장군 기장읍 기장해안로 147 롯데몰동부산점 3층</td>\n",
       "      <td>35.218819</td>\n",
       "      <td>129.231369</td>\n",
       "      <td>051-922-2500</td>\n",
       "    </tr>\n",
       "    <tr>\n",
       "      <th>1</th>\n",
       "      <td>롯데마트 TRU파주점</td>\n",
       "      <td>경기도 파주시 문발로 302 A블럭 3층(문발동, 롯데프리미엄아울렛)</td>\n",
       "      <td>37.720410</td>\n",
       "      <td>126.693622</td>\n",
       "      <td>031-960-2750</td>\n",
       "    </tr>\n",
       "    <tr>\n",
       "      <th>2</th>\n",
       "      <td>롯데마트 marketD수원점</td>\n",
       "      <td>경기도 수원시 권선구 세화로 134 롯데마트</td>\n",
       "      <td>37.265378</td>\n",
       "      <td>126.995983</td>\n",
       "      <td>031-8067-2500</td>\n",
       "    </tr>\n",
       "    <tr>\n",
       "      <th>3</th>\n",
       "      <td>롯데마트 강변점</td>\n",
       "      <td>서울특별시 광진구 광나루로56길 85 롯데마트</td>\n",
       "      <td>37.534937</td>\n",
       "      <td>127.095709</td>\n",
       "      <td>02-3424-2500</td>\n",
       "    </tr>\n",
       "    <tr>\n",
       "      <th>4</th>\n",
       "      <td>롯데마트 거제점</td>\n",
       "      <td>경상남도 거제시 서간도길 9-9 (옥포동)</td>\n",
       "      <td>34.888501</td>\n",
       "      <td>128.689184</td>\n",
       "      <td>055-641-2500</td>\n",
       "    </tr>\n",
       "  </tbody>\n",
       "</table>\n",
       "</div>"
      ],
      "text/plain": [
       "             store                                 address   Latitude  \\\n",
       "0     롯데마트 TRU동부산점      부산광역시 기장군 기장읍 기장해안로 147 롯데몰동부산점 3층  35.218819   \n",
       "1      롯데마트 TRU파주점  경기도 파주시 문발로 302 A블럭 3층(문발동, 롯데프리미엄아울렛)  37.720410   \n",
       "2  롯데마트 marketD수원점                경기도 수원시 권선구 세화로 134 롯데마트  37.265378   \n",
       "3         롯데마트 강변점               서울특별시 광진구 광나루로56길 85 롯데마트  37.534937   \n",
       "4         롯데마트 거제점                 경상남도 거제시 서간도길 9-9 (옥포동)  34.888501   \n",
       "\n",
       "    Longitude            tel  \n",
       "0  129.231369   051-922-2500  \n",
       "1  126.693622   031-960-2750  \n",
       "2  126.995983  031-8067-2500  \n",
       "3  127.095709   02-3424-2500  \n",
       "4  128.689184   055-641-2500  "
      ]
     },
     "execution_count": 64,
     "metadata": {},
     "output_type": "execute_result"
    }
   ],
   "source": [
    "mart_df = pd.read_csv('./mart.csv',encoding='utf-8')\n",
    "mart_df.head()"
   ]
  },
  {
   "cell_type": "code",
   "execution_count": 66,
   "metadata": {},
   "outputs": [],
   "source": [
    "mart_df['brand']=mart_df['store'].str.split().str[0]"
   ]
  },
  {
   "cell_type": "code",
   "execution_count": 67,
   "metadata": {},
   "outputs": [
    {
     "data": {
      "text/html": [
       "<div>\n",
       "<style scoped>\n",
       "    .dataframe tbody tr th:only-of-type {\n",
       "        vertical-align: middle;\n",
       "    }\n",
       "\n",
       "    .dataframe tbody tr th {\n",
       "        vertical-align: top;\n",
       "    }\n",
       "\n",
       "    .dataframe thead th {\n",
       "        text-align: right;\n",
       "    }\n",
       "</style>\n",
       "<table border=\"1\" class=\"dataframe\">\n",
       "  <thead>\n",
       "    <tr style=\"text-align: right;\">\n",
       "      <th></th>\n",
       "      <th>store</th>\n",
       "      <th>address</th>\n",
       "      <th>Latitude</th>\n",
       "      <th>Longitude</th>\n",
       "      <th>tel</th>\n",
       "      <th>brand</th>\n",
       "    </tr>\n",
       "  </thead>\n",
       "  <tbody>\n",
       "    <tr>\n",
       "      <th>0</th>\n",
       "      <td>롯데마트 TRU동부산점</td>\n",
       "      <td>부산광역시 기장군 기장읍 기장해안로 147 롯데몰동부산점 3층</td>\n",
       "      <td>35.218819</td>\n",
       "      <td>129.231369</td>\n",
       "      <td>051-922-2500</td>\n",
       "      <td>롯데마트</td>\n",
       "    </tr>\n",
       "    <tr>\n",
       "      <th>1</th>\n",
       "      <td>롯데마트 TRU파주점</td>\n",
       "      <td>경기도 파주시 문발로 302 A블럭 3층(문발동, 롯데프리미엄아울렛)</td>\n",
       "      <td>37.720410</td>\n",
       "      <td>126.693622</td>\n",
       "      <td>031-960-2750</td>\n",
       "      <td>롯데마트</td>\n",
       "    </tr>\n",
       "    <tr>\n",
       "      <th>2</th>\n",
       "      <td>롯데마트 marketD수원점</td>\n",
       "      <td>경기도 수원시 권선구 세화로 134 롯데마트</td>\n",
       "      <td>37.265378</td>\n",
       "      <td>126.995983</td>\n",
       "      <td>031-8067-2500</td>\n",
       "      <td>롯데마트</td>\n",
       "    </tr>\n",
       "    <tr>\n",
       "      <th>3</th>\n",
       "      <td>롯데마트 강변점</td>\n",
       "      <td>서울특별시 광진구 광나루로56길 85 롯데마트</td>\n",
       "      <td>37.534937</td>\n",
       "      <td>127.095709</td>\n",
       "      <td>02-3424-2500</td>\n",
       "      <td>롯데마트</td>\n",
       "    </tr>\n",
       "    <tr>\n",
       "      <th>4</th>\n",
       "      <td>롯데마트 거제점</td>\n",
       "      <td>경상남도 거제시 서간도길 9-9 (옥포동)</td>\n",
       "      <td>34.888501</td>\n",
       "      <td>128.689184</td>\n",
       "      <td>055-641-2500</td>\n",
       "      <td>롯데마트</td>\n",
       "    </tr>\n",
       "    <tr>\n",
       "      <th>...</th>\n",
       "      <td>...</td>\n",
       "      <td>...</td>\n",
       "      <td>...</td>\n",
       "      <td>...</td>\n",
       "      <td>...</td>\n",
       "      <td>...</td>\n",
       "    </tr>\n",
       "    <tr>\n",
       "      <th>455</th>\n",
       "      <td>탑마트 서진주점</td>\n",
       "      <td>경상남도 진주시 새평거로 136 (평거동 921)</td>\n",
       "      <td>35.181392</td>\n",
       "      <td>128.069798</td>\n",
       "      <td>055)743-6300</td>\n",
       "      <td>탑마트</td>\n",
       "    </tr>\n",
       "    <tr>\n",
       "      <th>456</th>\n",
       "      <td>탑마트 대구점</td>\n",
       "      <td>대구광역시 중구 중앙대로 66길 20 (효성해링턴 지하)</td>\n",
       "      <td>35.862074</td>\n",
       "      <td>128.594685</td>\n",
       "      <td>053)251-5000</td>\n",
       "      <td>탑마트</td>\n",
       "    </tr>\n",
       "    <tr>\n",
       "      <th>457</th>\n",
       "      <td>탑마트 물금역점</td>\n",
       "      <td>경상남도 양산시 물금읍 물금중앙길 18 (구, 물금시장)</td>\n",
       "      <td>35.309926</td>\n",
       "      <td>128.984952</td>\n",
       "      <td>055-387-3008</td>\n",
       "      <td>탑마트</td>\n",
       "    </tr>\n",
       "    <tr>\n",
       "      <th>458</th>\n",
       "      <td>탑마트 경주용강점</td>\n",
       "      <td>경상북도 경주시 산업로 4348 (용강동)</td>\n",
       "      <td>35.870536</td>\n",
       "      <td>129.231939</td>\n",
       "      <td>054)744-5501~2</td>\n",
       "      <td>탑마트</td>\n",
       "    </tr>\n",
       "    <tr>\n",
       "      <th>459</th>\n",
       "      <td>탑마트 부곡점</td>\n",
       "      <td>부산광역시 금정구 부곡동 79 (부곡동 333-1)</td>\n",
       "      <td>35.223140</td>\n",
       "      <td>129.090565</td>\n",
       "      <td>051)583-1501~2</td>\n",
       "      <td>탑마트</td>\n",
       "    </tr>\n",
       "  </tbody>\n",
       "</table>\n",
       "<p>460 rows × 6 columns</p>\n",
       "</div>"
      ],
      "text/plain": [
       "               store                                 address   Latitude  \\\n",
       "0       롯데마트 TRU동부산점      부산광역시 기장군 기장읍 기장해안로 147 롯데몰동부산점 3층  35.218819   \n",
       "1        롯데마트 TRU파주점  경기도 파주시 문발로 302 A블럭 3층(문발동, 롯데프리미엄아울렛)  37.720410   \n",
       "2    롯데마트 marketD수원점                경기도 수원시 권선구 세화로 134 롯데마트  37.265378   \n",
       "3           롯데마트 강변점               서울특별시 광진구 광나루로56길 85 롯데마트  37.534937   \n",
       "4           롯데마트 거제점                 경상남도 거제시 서간도길 9-9 (옥포동)  34.888501   \n",
       "..               ...                                     ...        ...   \n",
       "455         탑마트 서진주점             경상남도 진주시 새평거로 136 (평거동 921)  35.181392   \n",
       "456          탑마트 대구점         대구광역시 중구 중앙대로 66길 20 (효성해링턴 지하)  35.862074   \n",
       "457         탑마트 물금역점         경상남도 양산시 물금읍 물금중앙길 18 (구, 물금시장)  35.309926   \n",
       "458        탑마트 경주용강점                 경상북도 경주시 산업로 4348 (용강동)  35.870536   \n",
       "459          탑마트 부곡점            부산광역시 금정구 부곡동 79 (부곡동 333-1)  35.223140   \n",
       "\n",
       "      Longitude             tel brand  \n",
       "0    129.231369    051-922-2500  롯데마트  \n",
       "1    126.693622    031-960-2750  롯데마트  \n",
       "2    126.995983   031-8067-2500  롯데마트  \n",
       "3    127.095709    02-3424-2500  롯데마트  \n",
       "4    128.689184    055-641-2500  롯데마트  \n",
       "..          ...             ...   ...  \n",
       "455  128.069798    055)743-6300   탑마트  \n",
       "456  128.594685    053)251-5000   탑마트  \n",
       "457  128.984952    055-387-3008   탑마트  \n",
       "458  129.231939  054)744-5501~2   탑마트  \n",
       "459  129.090565  051)583-1501~2   탑마트  \n",
       "\n",
       "[460 rows x 6 columns]"
      ]
     },
     "execution_count": 67,
     "metadata": {},
     "output_type": "execute_result"
    }
   ],
   "source": [
    "mart_df"
   ]
  },
  {
   "cell_type": "code",
   "execution_count": 68,
   "metadata": {},
   "outputs": [],
   "source": [
    "mart_df=mart_df[['brand','store','address','Latitude','Longitude','tel']]"
   ]
  },
  {
   "cell_type": "code",
   "execution_count": 69,
   "metadata": {},
   "outputs": [],
   "source": [
    "mart_df.to_csv('./mart2.csv',encoding='utf-8',index=False)"
   ]
  },
  {
   "cell_type": "code",
   "execution_count": 70,
   "metadata": {},
   "outputs": [
    {
     "data": {
      "text/plain": [
       "<AxesSubplot:xlabel='brand', ylabel='count'>"
      ]
     },
     "execution_count": 70,
     "metadata": {},
     "output_type": "execute_result"
    },
    {
     "data": {
      "image/png": "[encoded data removed]",
      "text/plain": [
       "<Figure size 432x288 with 1 Axes>"
      ]
     },
     "metadata": {
      "needs_background": "light"
     },
     "output_type": "display_data"
    }
   ],
   "source": [
    "sns.countplot(data=mart_df,x='brand')"
   ]
  },
  {
   "cell_type": "code",
   "execution_count": null,
   "metadata": {},
   "outputs": [],
   "source": []
  }
 ],
 "metadata": {
  "kernelspec": {
   "display_name": "Python 3.10.5 64-bit",
   "language": "python",
   "name": "python3"
  },
  "language_info": {
   "codemirror_mode": {
    "name": "ipython",
    "version": 3
   },
   "file_extension": ".py",
   "mimetype": "text/x-python",
   "name": "python",
   "nbconvert_exporter": "python",
   "pygments_lexer": "ipython3",
   "version": "3.10.5"
  },
  "orig_nbformat": 4,
  "vscode": {
   "interpreter": {
    "hash": "beedbe2faf2f7048d727558d0bc3221e7eba2a0b921cac4d4771b2feb8f74b30"
   }
  }
 },
 "nbformat": 4,
 "nbformat_minor": 2
}
