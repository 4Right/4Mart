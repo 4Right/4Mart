{
 "cells": [
  {
   "cell_type": "code",
   "execution_count": 1,
   "metadata": {},
   "outputs": [],
   "source": [
    "import folium\n",
    "import pandas as pd\n",
    "import matplotlib.pyplot as plt\n",
    "import seaborn as sns\n",
    "from matplotlib import font_manager,rc"
   ]
  },
  {
   "cell_type": "code",
   "execution_count": 2,
   "metadata": {},
   "outputs": [],
   "source": [
    "font_name = font_manager.FontProperties(fname='C:/Windows/Fonts/NanumBarunGothic.ttf').get_name()\n",
    "rc('font',family=font_name)\n",
    "plt.rcParams['font.size'] = 14\n",
    "import matplotlib as mpl\n",
    "mpl.rcParams['axes.unicode_minus']=False"
   ]
  },
  {
   "cell_type": "code",
   "execution_count": 3,
   "metadata": {},
   "outputs": [],
   "source": [
    "mart_df=pd.read_csv('./mart2.csv',encoding='utf-8')"
   ]
  },
  {
   "cell_type": "code",
   "execution_count": 4,
   "metadata": {},
   "outputs": [
    {
     "data": {
      "text/plain": [
       "Text(0, 0.5, '갯수')"
      ]
     },
     "execution_count": 4,
     "metadata": {},
     "output_type": "execute_result"
    },
    {
     "data": {
      "image/png": "[encoded data removed]",
      "text/plain": [
       "<Figure size 720x360 with 1 Axes>"
      ]
     },
     "metadata": {
      "needs_background": "light"
     },
     "output_type": "display_data"
    }
   ],
   "source": [
    "plt.figure(figsize=(10,5))\n",
    "sns.color_palette(\"Pastel2\")\n",
    "p=sns.countplot(data=mart_df,x='brand')\n",
    "p.set_title('<전국 마트 갯수>')\n",
    "p.set_xlabel('마트 브랜드명')\n",
    "p.set_ylabel('갯수')\n"
   ]
  },
  {
   "cell_type": "code",
   "execution_count": 32,
   "metadata": {},
   "outputs": [
    {
     "data": {
      "text/html": [
       "<div>\n",
       "<style scoped>\n",
       "    .dataframe tbody tr th:only-of-type {\n",
       "        vertical-align: middle;\n",
       "    }\n",
       "\n",
       "    .dataframe tbody tr th {\n",
       "        vertical-align: top;\n",
       "    }\n",
       "\n",
       "    .dataframe thead th {\n",
       "        text-align: right;\n",
       "    }\n",
       "</style>\n",
       "<table border=\"1\" class=\"dataframe\">\n",
       "  <thead>\n",
       "    <tr style=\"text-align: right;\">\n",
       "      <th></th>\n",
       "      <th>brand</th>\n",
       "      <th>store</th>\n",
       "      <th>address</th>\n",
       "      <th>Latitude</th>\n",
       "      <th>Longitude</th>\n",
       "      <th>tel</th>\n",
       "    </tr>\n",
       "  </thead>\n",
       "  <tbody>\n",
       "    <tr>\n",
       "      <th>0</th>\n",
       "      <td>롯데마트</td>\n",
       "      <td>롯데마트 TRU동부산점</td>\n",
       "      <td>부산광역시 기장군 기장읍 기장해안로 147 롯데몰동부산점 3층</td>\n",
       "      <td>35.218819</td>\n",
       "      <td>129.231369</td>\n",
       "      <td>051-922-2500</td>\n",
       "    </tr>\n",
       "    <tr>\n",
       "      <th>1</th>\n",
       "      <td>롯데마트</td>\n",
       "      <td>롯데마트 TRU파주점</td>\n",
       "      <td>경기도 파주시 문발로 302 A블럭 3층(문발동, 롯데프리미엄아울렛)</td>\n",
       "      <td>37.720410</td>\n",
       "      <td>126.693622</td>\n",
       "      <td>031-960-2750</td>\n",
       "    </tr>\n",
       "    <tr>\n",
       "      <th>2</th>\n",
       "      <td>롯데마트</td>\n",
       "      <td>롯데마트 marketD수원점</td>\n",
       "      <td>경기도 수원시 권선구 세화로 134 롯데마트</td>\n",
       "      <td>37.265378</td>\n",
       "      <td>126.995983</td>\n",
       "      <td>031-8067-2500</td>\n",
       "    </tr>\n",
       "    <tr>\n",
       "      <th>3</th>\n",
       "      <td>롯데마트</td>\n",
       "      <td>롯데마트 강변점</td>\n",
       "      <td>서울특별시 광진구 광나루로56길 85 롯데마트</td>\n",
       "      <td>37.534937</td>\n",
       "      <td>127.095709</td>\n",
       "      <td>02-3424-2500</td>\n",
       "    </tr>\n",
       "    <tr>\n",
       "      <th>4</th>\n",
       "      <td>롯데마트</td>\n",
       "      <td>롯데마트 거제점</td>\n",
       "      <td>경상남도 거제시 서간도길 9-9 (옥포동)</td>\n",
       "      <td>34.888501</td>\n",
       "      <td>128.689184</td>\n",
       "      <td>055-641-2500</td>\n",
       "    </tr>\n",
       "  </tbody>\n",
       "</table>\n",
       "</div>"
      ],
      "text/plain": [
       "  brand            store                                 address   Latitude  \\\n",
       "0  롯데마트     롯데마트 TRU동부산점      부산광역시 기장군 기장읍 기장해안로 147 롯데몰동부산점 3층  35.218819   \n",
       "1  롯데마트      롯데마트 TRU파주점  경기도 파주시 문발로 302 A블럭 3층(문발동, 롯데프리미엄아울렛)  37.720410   \n",
       "2  롯데마트  롯데마트 marketD수원점                경기도 수원시 권선구 세화로 134 롯데마트  37.265378   \n",
       "3  롯데마트         롯데마트 강변점               서울특별시 광진구 광나루로56길 85 롯데마트  37.534937   \n",
       "4  롯데마트         롯데마트 거제점                 경상남도 거제시 서간도길 9-9 (옥포동)  34.888501   \n",
       "\n",
       "    Longitude            tel  \n",
       "0  129.231369   051-922-2500  \n",
       "1  126.693622   031-960-2750  \n",
       "2  126.995983  031-8067-2500  \n",
       "3  127.095709   02-3424-2500  \n",
       "4  128.689184   055-641-2500  "
      ]
     },
     "execution_count": 32,
     "metadata": {},
     "output_type": "execute_result"
    }
   ],
   "source": [
    "mart_df.head()"
   ]
  },
  {
   "cell_type": "code",
   "execution_count": 33,
   "metadata": {},
   "outputs": [],
   "source": [
    "mart_df['city']=mart_df['address'].str.split().str[0]"
   ]
  },
  {
   "cell_type": "code",
   "execution_count": 34,
   "metadata": {},
   "outputs": [
    {
     "data": {
      "text/html": [
       "<div>\n",
       "<style scoped>\n",
       "    .dataframe tbody tr th:only-of-type {\n",
       "        vertical-align: middle;\n",
       "    }\n",
       "\n",
       "    .dataframe tbody tr th {\n",
       "        vertical-align: top;\n",
       "    }\n",
       "\n",
       "    .dataframe thead th {\n",
       "        text-align: right;\n",
       "    }\n",
       "</style>\n",
       "<table border=\"1\" class=\"dataframe\">\n",
       "  <thead>\n",
       "    <tr style=\"text-align: right;\">\n",
       "      <th></th>\n",
       "      <th>brand</th>\n",
       "      <th>store</th>\n",
       "      <th>address</th>\n",
       "      <th>Latitude</th>\n",
       "      <th>Longitude</th>\n",
       "      <th>tel</th>\n",
       "      <th>city</th>\n",
       "    </tr>\n",
       "  </thead>\n",
       "  <tbody>\n",
       "    <tr>\n",
       "      <th>0</th>\n",
       "      <td>롯데마트</td>\n",
       "      <td>롯데마트 TRU동부산점</td>\n",
       "      <td>부산광역시 기장군 기장읍 기장해안로 147 롯데몰동부산점 3층</td>\n",
       "      <td>35.218819</td>\n",
       "      <td>129.231369</td>\n",
       "      <td>051-922-2500</td>\n",
       "      <td>부산광역시</td>\n",
       "    </tr>\n",
       "    <tr>\n",
       "      <th>1</th>\n",
       "      <td>롯데마트</td>\n",
       "      <td>롯데마트 TRU파주점</td>\n",
       "      <td>경기도 파주시 문발로 302 A블럭 3층(문발동, 롯데프리미엄아울렛)</td>\n",
       "      <td>37.720410</td>\n",
       "      <td>126.693622</td>\n",
       "      <td>031-960-2750</td>\n",
       "      <td>경기도</td>\n",
       "    </tr>\n",
       "    <tr>\n",
       "      <th>2</th>\n",
       "      <td>롯데마트</td>\n",
       "      <td>롯데마트 marketD수원점</td>\n",
       "      <td>경기도 수원시 권선구 세화로 134 롯데마트</td>\n",
       "      <td>37.265378</td>\n",
       "      <td>126.995983</td>\n",
       "      <td>031-8067-2500</td>\n",
       "      <td>경기도</td>\n",
       "    </tr>\n",
       "    <tr>\n",
       "      <th>3</th>\n",
       "      <td>롯데마트</td>\n",
       "      <td>롯데마트 강변점</td>\n",
       "      <td>서울특별시 광진구 광나루로56길 85 롯데마트</td>\n",
       "      <td>37.534937</td>\n",
       "      <td>127.095709</td>\n",
       "      <td>02-3424-2500</td>\n",
       "      <td>서울특별시</td>\n",
       "    </tr>\n",
       "    <tr>\n",
       "      <th>4</th>\n",
       "      <td>롯데마트</td>\n",
       "      <td>롯데마트 거제점</td>\n",
       "      <td>경상남도 거제시 서간도길 9-9 (옥포동)</td>\n",
       "      <td>34.888501</td>\n",
       "      <td>128.689184</td>\n",
       "      <td>055-641-2500</td>\n",
       "      <td>경상남도</td>\n",
       "    </tr>\n",
       "  </tbody>\n",
       "</table>\n",
       "</div>"
      ],
      "text/plain": [
       "  brand            store                                 address   Latitude  \\\n",
       "0  롯데마트     롯데마트 TRU동부산점      부산광역시 기장군 기장읍 기장해안로 147 롯데몰동부산점 3층  35.218819   \n",
       "1  롯데마트      롯데마트 TRU파주점  경기도 파주시 문발로 302 A블럭 3층(문발동, 롯데프리미엄아울렛)  37.720410   \n",
       "2  롯데마트  롯데마트 marketD수원점                경기도 수원시 권선구 세화로 134 롯데마트  37.265378   \n",
       "3  롯데마트         롯데마트 강변점               서울특별시 광진구 광나루로56길 85 롯데마트  37.534937   \n",
       "4  롯데마트         롯데마트 거제점                 경상남도 거제시 서간도길 9-9 (옥포동)  34.888501   \n",
       "\n",
       "    Longitude            tel   city  \n",
       "0  129.231369   051-922-2500  부산광역시  \n",
       "1  126.693622   031-960-2750    경기도  \n",
       "2  126.995983  031-8067-2500    경기도  \n",
       "3  127.095709   02-3424-2500  서울특별시  \n",
       "4  128.689184   055-641-2500   경상남도  "
      ]
     },
     "execution_count": 34,
     "metadata": {},
     "output_type": "execute_result"
    }
   ],
   "source": [
    "mart_df.head()"
   ]
  },
  {
   "cell_type": "code",
   "execution_count": null,
   "metadata": {},
   "outputs": [],
   "source": []
  }
 ],
 "metadata": {
  "kernelspec": {
   "display_name": "Python 3.10.5 64-bit",
   "language": "python",
   "name": "python3"
  },
  "language_info": {
   "codemirror_mode": {
    "name": "ipython",
    "version": 3
   },
   "file_extension": ".py",
   "mimetype": "text/x-python",
   "name": "python",
   "nbconvert_exporter": "python",
   "pygments_lexer": "ipython3",
   "version": "3.10.5"
  },
  "orig_nbformat": 4,
  "vscode": {
   "interpreter": {
    "hash": "beedbe2faf2f7048d727558d0bc3221e7eba2a0b921cac4d4771b2feb8f74b30"
   }
  }
 },
 "nbformat": 4,
 "nbformat_minor": 2
}
