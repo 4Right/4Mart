{
 "cells": [
  {
   "cell_type": "code",
   "execution_count": 2,
   "metadata": {},
   "outputs": [],
   "source": [
    "import time\n",
    "import requests\n",
    "import matplotlib\n",
    "import matplotlib.pyplot as plt\n",
    "import numpy as np\n",
    "import seaborn as sn\n",
    "import pandas as pd\n",
    "import matplotlib.font_manager as fm\n",
    "import urllib.request\n",
    "\n",
    "\n",
    "from selenium.webdriver.common.by import By\n",
    "from selenium import webdriver\n",
    "from matplotlib import rc\n",
    "from bs4 import BeautifulSoup\n",
    "from urllib.request import urlopen"
   ]
  },
  {
   "cell_type": "code",
   "execution_count": 3,
   "metadata": {},
   "outputs": [
    {
     "data": {
      "text/html": [
       "<div>\n",
       "<style scoped>\n",
       "    .dataframe tbody tr th:only-of-type {\n",
       "        vertical-align: middle;\n",
       "    }\n",
       "\n",
       "    .dataframe tbody tr th {\n",
       "        vertical-align: top;\n",
       "    }\n",
       "\n",
       "    .dataframe thead th {\n",
       "        text-align: right;\n",
       "    }\n",
       "</style>\n",
       "<table border=\"1\" class=\"dataframe\">\n",
       "  <thead>\n",
       "    <tr style=\"text-align: right;\">\n",
       "      <th></th>\n",
       "      <th>Unnamed: 0</th>\n",
       "      <th>store</th>\n",
       "      <th>address</th>\n",
       "      <th>phone</th>\n",
       "    </tr>\n",
       "  </thead>\n",
       "  <tbody>\n",
       "    <tr>\n",
       "      <th>0</th>\n",
       "      <td>0</td>\n",
       "      <td>롯데마트 TRU동부산점</td>\n",
       "      <td>부산광역시 기장군 기장읍 기장해안로 147 롯데몰동부산점 3층</td>\n",
       "      <td>051-922-2500</td>\n",
       "    </tr>\n",
       "    <tr>\n",
       "      <th>1</th>\n",
       "      <td>1</td>\n",
       "      <td>롯데마트 TRU파주점</td>\n",
       "      <td>경기도 파주시 문발로 302 A블럭 3층(문발동, 롯데프리미엄아울렛)</td>\n",
       "      <td>031-960-2750</td>\n",
       "    </tr>\n",
       "    <tr>\n",
       "      <th>2</th>\n",
       "      <td>2</td>\n",
       "      <td>롯데마트 marketD수원점</td>\n",
       "      <td>경기도 수원시 권선구 세화로 134 롯데마트</td>\n",
       "      <td>031-8067-2500</td>\n",
       "    </tr>\n",
       "    <tr>\n",
       "      <th>3</th>\n",
       "      <td>3</td>\n",
       "      <td>롯데마트 강변점</td>\n",
       "      <td>서울특별시 광진구 광나루로56길 85 롯데마트</td>\n",
       "      <td>02-3424-2500</td>\n",
       "    </tr>\n",
       "    <tr>\n",
       "      <th>4</th>\n",
       "      <td>4</td>\n",
       "      <td>롯데마트 거제점</td>\n",
       "      <td>경상남도 거제시 서간도길 9-9 (옥포동)</td>\n",
       "      <td>055-641-2500</td>\n",
       "    </tr>\n",
       "  </tbody>\n",
       "</table>\n",
       "</div>"
      ],
      "text/plain": [
       "   Unnamed: 0            store                                 address  \\\n",
       "0           0     롯데마트 TRU동부산점      부산광역시 기장군 기장읍 기장해안로 147 롯데몰동부산점 3층   \n",
       "1           1      롯데마트 TRU파주점  경기도 파주시 문발로 302 A블럭 3층(문발동, 롯데프리미엄아울렛)   \n",
       "2           2  롯데마트 marketD수원점               경기도 수원시 권선구 세화로 134 롯데마트    \n",
       "3           3         롯데마트 강변점              서울특별시 광진구 광나루로56길 85 롯데마트    \n",
       "4           4         롯데마트 거제점                 경상남도 거제시 서간도길 9-9 (옥포동)   \n",
       "\n",
       "           phone  \n",
       "0   051-922-2500  \n",
       "1   031-960-2750  \n",
       "2  031-8067-2500  \n",
       "3   02-3424-2500  \n",
       "4   055-641-2500  "
      ]
     },
     "execution_count": 3,
     "metadata": {},
     "output_type": "execute_result"
    }
   ],
   "source": [
    "lotte = pd.read_csv('./lotte_info.csv',encoding='utf-8')\n",
    "lotte.head()"
   ]
  },
  {
   "cell_type": "code",
   "execution_count": 4,
   "metadata": {},
   "outputs": [
    {
     "data": {
      "text/html": [
       "<div>\n",
       "<style scoped>\n",
       "    .dataframe tbody tr th:only-of-type {\n",
       "        vertical-align: middle;\n",
       "    }\n",
       "\n",
       "    .dataframe tbody tr th {\n",
       "        vertical-align: top;\n",
       "    }\n",
       "\n",
       "    .dataframe thead th {\n",
       "        text-align: right;\n",
       "    }\n",
       "</style>\n",
       "<table border=\"1\" class=\"dataframe\">\n",
       "  <thead>\n",
       "    <tr style=\"text-align: right;\">\n",
       "      <th></th>\n",
       "      <th>Unnamed: 0</th>\n",
       "      <th>store</th>\n",
       "      <th>address</th>\n",
       "      <th>phone</th>\n",
       "    </tr>\n",
       "  </thead>\n",
       "  <tbody>\n",
       "    <tr>\n",
       "      <th>107</th>\n",
       "      <td>107</td>\n",
       "      <td>롯데마트 포항점</td>\n",
       "      <td>경북 포항시 남구 지곡로 247 롯데마트</td>\n",
       "      <td>054-222-2500</td>\n",
       "    </tr>\n",
       "    <tr>\n",
       "      <th>108</th>\n",
       "      <td>108</td>\n",
       "      <td>롯데마트 행당역점</td>\n",
       "      <td>서울 성동구 행당로 82 한진타운상가 B2~B3층</td>\n",
       "      <td>02-2290-7000</td>\n",
       "    </tr>\n",
       "    <tr>\n",
       "      <th>109</th>\n",
       "      <td>109</td>\n",
       "      <td>롯데마트 홍성점</td>\n",
       "      <td>충남 홍성군 홍성읍 조양로247번길 9 롯데마트</td>\n",
       "      <td>041-339-2500</td>\n",
       "    </tr>\n",
       "    <tr>\n",
       "      <th>110</th>\n",
       "      <td>110</td>\n",
       "      <td>롯데마트 화명점</td>\n",
       "      <td>부산 북구 화명대로 47 롯데마트</td>\n",
       "      <td>051-604-2500</td>\n",
       "    </tr>\n",
       "    <tr>\n",
       "      <th>111</th>\n",
       "      <td>111</td>\n",
       "      <td>롯데마트 화정점</td>\n",
       "      <td>경기 고양시 덕양구 화중로 66 롯데마트</td>\n",
       "      <td>031-947-2500</td>\n",
       "    </tr>\n",
       "  </tbody>\n",
       "</table>\n",
       "</div>"
      ],
      "text/plain": [
       "     Unnamed: 0      store                      address         phone\n",
       "107         107   롯데마트 포항점      경북 포항시 남구 지곡로 247 롯데마트   054-222-2500\n",
       "108         108  롯데마트 행당역점  서울 성동구 행당로 82 한진타운상가 B2~B3층  02-2290-7000\n",
       "109         109   롯데마트 홍성점  충남 홍성군 홍성읍 조양로247번길 9 롯데마트   041-339-2500\n",
       "110         110   롯데마트 화명점           부산 북구 화명대로 47 롯데마트  051-604-2500\n",
       "111         111   롯데마트 화정점      경기 고양시 덕양구 화중로 66 롯데마트   031-947-2500"
      ]
     },
     "execution_count": 4,
     "metadata": {},
     "output_type": "execute_result"
    }
   ],
   "source": [
    "lotte.tail()"
   ]
  },
  {
   "cell_type": "code",
   "execution_count": 5,
   "metadata": {},
   "outputs": [],
   "source": [
    "lotte = lotte.rename(columns={'phone':'tell'})"
   ]
  },
  {
   "cell_type": "code",
   "execution_count": 6,
   "metadata": {},
   "outputs": [],
   "source": [
    "lotte = lotte.drop(columns=['Unnamed: 0'])"
   ]
  },
  {
   "cell_type": "code",
   "execution_count": 7,
   "metadata": {},
   "outputs": [
    {
     "data": {
      "text/html": [
       "<div>\n",
       "<style scoped>\n",
       "    .dataframe tbody tr th:only-of-type {\n",
       "        vertical-align: middle;\n",
       "    }\n",
       "\n",
       "    .dataframe tbody tr th {\n",
       "        vertical-align: top;\n",
       "    }\n",
       "\n",
       "    .dataframe thead th {\n",
       "        text-align: right;\n",
       "    }\n",
       "</style>\n",
       "<table border=\"1\" class=\"dataframe\">\n",
       "  <thead>\n",
       "    <tr style=\"text-align: right;\">\n",
       "      <th></th>\n",
       "      <th>store</th>\n",
       "      <th>address</th>\n",
       "      <th>tell</th>\n",
       "    </tr>\n",
       "  </thead>\n",
       "  <tbody>\n",
       "    <tr>\n",
       "      <th>0</th>\n",
       "      <td>롯데마트 TRU동부산점</td>\n",
       "      <td>부산광역시 기장군 기장읍 기장해안로 147 롯데몰동부산점 3층</td>\n",
       "      <td>051-922-2500</td>\n",
       "    </tr>\n",
       "    <tr>\n",
       "      <th>1</th>\n",
       "      <td>롯데마트 TRU파주점</td>\n",
       "      <td>경기도 파주시 문발로 302 A블럭 3층(문발동, 롯데프리미엄아울렛)</td>\n",
       "      <td>031-960-2750</td>\n",
       "    </tr>\n",
       "    <tr>\n",
       "      <th>2</th>\n",
       "      <td>롯데마트 marketD수원점</td>\n",
       "      <td>경기도 수원시 권선구 세화로 134 롯데마트</td>\n",
       "      <td>031-8067-2500</td>\n",
       "    </tr>\n",
       "    <tr>\n",
       "      <th>3</th>\n",
       "      <td>롯데마트 강변점</td>\n",
       "      <td>서울특별시 광진구 광나루로56길 85 롯데마트</td>\n",
       "      <td>02-3424-2500</td>\n",
       "    </tr>\n",
       "    <tr>\n",
       "      <th>4</th>\n",
       "      <td>롯데마트 거제점</td>\n",
       "      <td>경상남도 거제시 서간도길 9-9 (옥포동)</td>\n",
       "      <td>055-641-2500</td>\n",
       "    </tr>\n",
       "  </tbody>\n",
       "</table>\n",
       "</div>"
      ],
      "text/plain": [
       "             store                                 address           tell\n",
       "0     롯데마트 TRU동부산점      부산광역시 기장군 기장읍 기장해안로 147 롯데몰동부산점 3층   051-922-2500\n",
       "1      롯데마트 TRU파주점  경기도 파주시 문발로 302 A블럭 3층(문발동, 롯데프리미엄아울렛)   031-960-2750\n",
       "2  롯데마트 marketD수원점               경기도 수원시 권선구 세화로 134 롯데마트   031-8067-2500\n",
       "3         롯데마트 강변점              서울특별시 광진구 광나루로56길 85 롯데마트    02-3424-2500\n",
       "4         롯데마트 거제점                 경상남도 거제시 서간도길 9-9 (옥포동)   055-641-2500"
      ]
     },
     "execution_count": 7,
     "metadata": {},
     "output_type": "execute_result"
    }
   ],
   "source": [
    "lotte.head()"
   ]
  },
  {
   "cell_type": "code",
   "execution_count": 9,
   "metadata": {},
   "outputs": [],
   "source": [
    "lotte.to_csv('./lottemart.csv',index=False,encoding='utf-8')"
   ]
  },
  {
   "cell_type": "code",
   "execution_count": 11,
   "metadata": {},
   "outputs": [
    {
     "data": {
      "text/plain": [
       "(112, 3)"
      ]
     },
     "execution_count": 11,
     "metadata": {},
     "output_type": "execute_result"
    }
   ],
   "source": [
    "lotteMart =pd.read_csv('./lottemart.csv',encoding='utf-8')\n",
    "lotteMart.shape"
   ]
  },
  {
   "cell_type": "code",
   "execution_count": 12,
   "metadata": {},
   "outputs": [
    {
     "name": "stdout",
     "output_type": "stream",
     "text": [
      "<class 'pandas.core.frame.DataFrame'>\n",
      "RangeIndex: 112 entries, 0 to 111\n",
      "Data columns (total 3 columns):\n",
      " #   Column   Non-Null Count  Dtype \n",
      "---  ------   --------------  ----- \n",
      " 0   store    112 non-null    object\n",
      " 1   address  112 non-null    object\n",
      " 2   tell     112 non-null    object\n",
      "dtypes: object(3)\n",
      "memory usage: 2.8+ KB\n"
     ]
    }
   ],
   "source": [
    "lotteMart.info()"
   ]
  },
  {
   "cell_type": "code",
   "execution_count": null,
   "metadata": {},
   "outputs": [],
   "source": []
  }
 ],
 "metadata": {
  "kernelspec": {
   "display_name": "Python 3.10.5 64-bit",
   "language": "python",
   "name": "python3"
  },
  "language_info": {
   "codemirror_mode": {
    "name": "ipython",
    "version": 3
   },
   "file_extension": ".py",
   "mimetype": "text/x-python",
   "name": "python",
   "nbconvert_exporter": "python",
   "pygments_lexer": "ipython3",
   "version": "3.10.5"
  },
  "orig_nbformat": 4,
  "vscode": {
   "interpreter": {
    "hash": "beedbe2faf2f7048d727558d0bc3221e7eba2a0b921cac4d4771b2feb8f74b30"
   }
  }
 },
 "nbformat": 4,
 "nbformat_minor": 2
}
